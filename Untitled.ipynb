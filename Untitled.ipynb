{
  "cells": [
    {
      "cell_type": "markdown",
      "metadata": {
        "id": "view-in-github",
        "colab_type": "text"
      },
      "source": [
        "<a href=\"https://colab.research.google.com/github/yuanyuan233333/Bayesian-statistics-project/blob/main/Untitled.ipynb\" target=\"_parent\"><img src=\"https://colab.research.google.com/assets/colab-badge.svg\" alt=\"Open In Colab\"/></a>"
      ]
    },
    {
      "cell_type": "markdown",
      "id": "d8ca571c",
      "metadata": {
        "id": "d8ca571c"
      },
      "source": [
        "# Install STAN requirements"
      ]
    },
    {
      "cell_type": "code",
      "execution_count": null,
      "id": "d0a7d4fc",
      "metadata": {
        "id": "d0a7d4fc",
        "outputId": "dd318ad7-372d-495c-8723-d6ace025ba94"
      },
      "outputs": [
        {
          "name": "stdout",
          "output_type": "stream",
          "text": [
            "Requirement already satisfied: cmdstanpy in /Users/xueyuanhuang/anaconda3/lib/python3.11/site-packages (1.2.5)\r\n",
            "Requirement already satisfied: pandas in /Users/xueyuanhuang/anaconda3/lib/python3.11/site-packages (from cmdstanpy) (1.5.3)\r\n",
            "Requirement already satisfied: numpy>=1.21 in /Users/xueyuanhuang/anaconda3/lib/python3.11/site-packages (from cmdstanpy) (1.24.3)\r\n",
            "Requirement already satisfied: tqdm in /Users/xueyuanhuang/anaconda3/lib/python3.11/site-packages (from cmdstanpy) (4.65.0)\r\n",
            "Requirement already satisfied: stanio<2.0.0,>=0.4.0 in /Users/xueyuanhuang/anaconda3/lib/python3.11/site-packages (from cmdstanpy) (0.5.1)\r\n",
            "Requirement already satisfied: python-dateutil>=2.8.1 in /Users/xueyuanhuang/anaconda3/lib/python3.11/site-packages (from pandas->cmdstanpy) (2.8.2)\r\n",
            "Requirement already satisfied: pytz>=2020.1 in /Users/xueyuanhuang/anaconda3/lib/python3.11/site-packages (from pandas->cmdstanpy) (2022.7)\r\n",
            "Requirement already satisfied: six>=1.5 in /Users/xueyuanhuang/anaconda3/lib/python3.11/site-packages (from python-dateutil>=2.8.1->pandas->cmdstanpy) (1.16.0)\r\n"
          ]
        }
      ],
      "source": [
        "!pip install cmdstanpy"
      ]
    },
    {
      "cell_type": "code",
      "execution_count": null,
      "id": "2dae463b",
      "metadata": {
        "id": "2dae463b",
        "outputId": "05778240-7a5e-478b-b2a3-ce1a6f489d3d"
      },
      "outputs": [
        {
          "name": "stdout",
          "output_type": "stream",
          "text": [
            "CmdStan install directory: ~/cmdstan\n",
            "CmdStan version 2.36.0 already installed\n",
            "Test model compilation\n"
          ]
        },
        {
          "data": {
            "text/plain": [
              "True"
            ]
          },
          "execution_count": 13,
          "metadata": {},
          "output_type": "execute_result"
        }
      ],
      "source": [
        "from cmdstanpy import install_cmdstan\n",
        "install_cmdstan(compiler=True, dir=\"~/cmdstan\")"
      ]
    },
    {
      "cell_type": "code",
      "execution_count": null,
      "id": "d1b757df",
      "metadata": {
        "id": "d1b757df",
        "outputId": "f3431111-d624-4978-b214-434ebe4f40a8"
      },
      "outputs": [
        {
          "name": "stdout",
          "output_type": "stream",
          "text": [
            "Requirement already satisfied: arviz in /Users/xueyuanhuang/anaconda3/lib/python3.11/site-packages (0.20.0)\n",
            "Requirement already satisfied: setuptools>=60.0.0 in /Users/xueyuanhuang/anaconda3/lib/python3.11/site-packages (from arviz) (68.0.0)\n",
            "Requirement already satisfied: matplotlib>=3.5 in /Users/xueyuanhuang/anaconda3/lib/python3.11/site-packages (from arviz) (3.7.1)\n",
            "Requirement already satisfied: numpy>=1.23.0 in /Users/xueyuanhuang/anaconda3/lib/python3.11/site-packages (from arviz) (1.24.3)\n",
            "Requirement already satisfied: scipy>=1.9.0 in /Users/xueyuanhuang/anaconda3/lib/python3.11/site-packages (from arviz) (1.10.1)\n",
            "Requirement already satisfied: packaging in /Users/xueyuanhuang/anaconda3/lib/python3.11/site-packages (from arviz) (23.0)\n",
            "Requirement already satisfied: pandas>=1.5.0 in /Users/xueyuanhuang/anaconda3/lib/python3.11/site-packages (from arviz) (1.5.3)\n",
            "Requirement already satisfied: xarray>=2022.6.0 in /Users/xueyuanhuang/anaconda3/lib/python3.11/site-packages (from arviz) (2023.6.0)\n",
            "Requirement already satisfied: h5netcdf>=1.0.2 in /Users/xueyuanhuang/anaconda3/lib/python3.11/site-packages (from arviz) (1.4.1)\n",
            "Requirement already satisfied: typing-extensions>=4.1.0 in /Users/xueyuanhuang/anaconda3/lib/python3.11/site-packages (from arviz) (4.7.1)\n",
            "Requirement already satisfied: xarray-einstats>=0.3 in /Users/xueyuanhuang/anaconda3/lib/python3.11/site-packages (from arviz) (0.8.0)\n",
            "Requirement already satisfied: h5py in /Users/xueyuanhuang/anaconda3/lib/python3.11/site-packages (from h5netcdf>=1.0.2->arviz) (3.7.0)\n",
            "Requirement already satisfied: contourpy>=1.0.1 in /Users/xueyuanhuang/anaconda3/lib/python3.11/site-packages (from matplotlib>=3.5->arviz) (1.0.5)\n",
            "Requirement already satisfied: cycler>=0.10 in /Users/xueyuanhuang/anaconda3/lib/python3.11/site-packages (from matplotlib>=3.5->arviz) (0.11.0)\n",
            "Requirement already satisfied: fonttools>=4.22.0 in /Users/xueyuanhuang/anaconda3/lib/python3.11/site-packages (from matplotlib>=3.5->arviz) (4.25.0)\n",
            "Requirement already satisfied: kiwisolver>=1.0.1 in /Users/xueyuanhuang/anaconda3/lib/python3.11/site-packages (from matplotlib>=3.5->arviz) (1.4.4)\n",
            "Requirement already satisfied: pillow>=6.2.0 in /Users/xueyuanhuang/anaconda3/lib/python3.11/site-packages (from matplotlib>=3.5->arviz) (9.4.0)\n",
            "Requirement already satisfied: pyparsing>=2.3.1 in /Users/xueyuanhuang/anaconda3/lib/python3.11/site-packages (from matplotlib>=3.5->arviz) (3.0.9)\n",
            "Requirement already satisfied: python-dateutil>=2.7 in /Users/xueyuanhuang/anaconda3/lib/python3.11/site-packages (from matplotlib>=3.5->arviz) (2.8.2)\n",
            "Requirement already satisfied: pytz>=2020.1 in /Users/xueyuanhuang/anaconda3/lib/python3.11/site-packages (from pandas>=1.5.0->arviz) (2022.7)\n",
            "Requirement already satisfied: six>=1.5 in /Users/xueyuanhuang/anaconda3/lib/python3.11/site-packages (from python-dateutil>=2.7->matplotlib>=3.5->arviz) (1.16.0)\n"
          ]
        }
      ],
      "source": [
        "!pip install arviz"
      ]
    },
    {
      "cell_type": "markdown",
      "id": "7cad0ba8",
      "metadata": {
        "id": "7cad0ba8"
      },
      "source": [
        "# Dummy init script"
      ]
    },
    {
      "cell_type": "code",
      "execution_count": null,
      "id": "51ebfd35",
      "metadata": {
        "id": "51ebfd35"
      },
      "outputs": [],
      "source": [
        "import json\n",
        "import os\n",
        "import shutil\n",
        "import re\n",
        "\n",
        "from typing import List\n",
        "\n",
        "import numpy as np\n",
        "import pandas as pd\n",
        "\n",
        "\n",
        "def dump_multichain_inits(\n",
        "        sample: pd.DataFrame,\n",
        "        inits_directory: str,\n",
        "        init_vars: List[str],\n",
        "        num_chains: int,\n",
        ") -> List[str]:\n",
        "    \"\"\"Simple script that assembles a set of approximate samples (e.g., from a variational inference run) into\n",
        "    distinct initializations for each chain.\n",
        "    You must provide:\n",
        "    - sample (pd.DataFrame): the collection of approximate samples from the posterior;\n",
        "    - inits_directory (str): the directory where to store the initializations, as per-chain json files;\n",
        "    - init_vars (List[str]): the variables that **should** be initialized;\n",
        "    - num_chains (int): the number of chains you are planning to run; the number of samples must be eactly divisible\n",
        "        by this number!\n",
        "\n",
        "    Returns: the list of paths to the jsons containing the initializations to each chain, that you should pass\n",
        "        to the sample() algorithm\n",
        "    \"\"\"\n",
        "    # regenerating the directory\n",
        "    if os.path.isdir(os.path.join(inits_directory)):\n",
        "        shutil.rmtree(os.path.join(inits_directory))\n",
        "    os.makedirs(os.path.join(inits_directory), exist_ok=True)\n",
        "\n",
        "    # dumping the initialization\n",
        "    inits = []\n",
        "\n",
        "    assert sample.shape[0] % num_chains == 0, \"The number of samples should be exactly divisible by num_chains!\"\n",
        "    reps = sample.shape[0] // num_chains\n",
        "    assert reps >= 0, \"Need at least 1 sample per chain!\"\n",
        "    sample['assignment'] = np.repeat(range(num_chains), reps)\n",
        "    for i in range(num_chains):\n",
        "        chain_i_inits = {}\n",
        "        for var in init_vars:\n",
        "            var_samples = sample.loc[sample['assignment'] == i, :].filter(regex=rf'^{var}\\[').mode().iloc[0, :]\n",
        "            assert len(var_samples) > 0, f'No variables found with name \"{var}\"!'\n",
        "            # these regular expressions are just to collect the columns corresponding to the different variables\n",
        "            #   also, we do some rearranging to make sure that the stuff we save has the correct shape...\n",
        "            vec_pttrn = rf'^{var}\\[\\d+]'\n",
        "            mat_pttrn = rf'^{var}\\[(\\d+),\\d+]'\n",
        "            if all([re.match(vec_pttrn, ind) is not None for ind in var_samples.index]):\n",
        "                # list variables, indexed by a single parenthesised index\n",
        "                chain_i_inits[var] = var_samples.values.copy().tolist()\n",
        "            elif all([re.match(mat_pttrn, ind) is not None for ind in var_samples.index]):\n",
        "                # matrix variables, indexed by two indices separated by a comma (must be reshaped)\n",
        "                shape_0 = max([int(re.match(mat_pttrn, ind).group(1)) for ind in var_samples.index])\n",
        "                chain_i_inits[var] = var_samples.values.copy().reshape((shape_0, -1)).tolist()\n",
        "            else:\n",
        "                raise ValueError(f'Unexpected shape for variable {var}!')\n",
        "        with open(os.path.join(inits_directory, f'chain_{i}_init.json'), 'w') as handle:\n",
        "            json.dump(chain_i_inits, handle)\n",
        "        inits.append(os.path.join(inits_directory, f'chain_{i}_init.json'))\n",
        "\n",
        "    return inits"
      ]
    },
    {
      "cell_type": "markdown",
      "id": "4b44254a",
      "metadata": {
        "id": "4b44254a"
      },
      "source": [
        "# Imports"
      ]
    },
    {
      "cell_type": "code",
      "execution_count": 1,
      "id": "d7de6add",
      "metadata": {
        "id": "d7de6add"
      },
      "outputs": [],
      "source": [
        "import os\n",
        "import pandas as pd\n",
        "import numpy as np\n",
        "from cmdstanpy import CmdStanModel\n",
        "import arviz as az\n",
        "import matplotlib.pyplot as plt"
      ]
    },
    {
      "cell_type": "markdown",
      "id": "ef9128dd",
      "metadata": {
        "id": "ef9128dd"
      },
      "source": [
        "# Model Definition and Input Variables"
      ]
    },
    {
      "cell_type": "code",
      "execution_count": null,
      "id": "f61bfb09",
      "metadata": {
        "id": "f61bfb09"
      },
      "outputs": [],
      "source": [
        "folder_name = \"stan\"\n",
        "model_name = \"model\"\n",
        "train_data_file = \"train_data.csv\"\n",
        "test_data_file = \"test_data.csv\"\n",
        "\n",
        "stan_code = \"\"\"\n",
        "\n",
        "functions {\n",
        "    // ... function declarations and definitions ...\n",
        "    real signum(real x) {\n",
        "        if (x > 0) {\n",
        "            return 1;\n",
        "        } else if (x < 0) {\n",
        "            return -1;\n",
        "        } else {\n",
        "            return 0;\n",
        "        }\n",
        "    }\n",
        "}\n",
        "\n",
        "/* definition of the input data */\n",
        "data {\n",
        "    // dimensions\n",
        "    int<lower = 1> N;   // number of datapoints\n",
        "    int<lower = 2> M;   // number of (dynamical) experts\n",
        "    // TODO: handle no inputs\n",
        "    int<lower = 2> P;   // number of features\n",
        "    int<lower = 1> Q;   // number of embeddings\n",
        "    int<lower = 1> T;   // number of test datapoints\n",
        "    real<lower = 0> eps;\n",
        "\n",
        "    // additional specifications\n",
        "    int<lower = 0, upper = 1> reverse_order;   // whether to reverse the ordering of the variances\n",
        "\n",
        "    // training observations\n",
        "    matrix[N, P] x;     // covariates - assumes that the first two columns are the last and the second-last outputs\n",
        "    matrix[N, Q] phi_x; // embeddings of covariates\n",
        "    vector[N] y;        // outputs\n",
        "\n",
        "    // test data\n",
        "    matrix[T, P] v;     // test covariates\n",
        "    matrix[T, Q] phi_v; // test embeddings of covariates\n",
        "    vector[T] w;        // test outputs\n",
        "\n",
        "    // prior hyperparameters\n",
        "    //      - notice that the prior matrices/vector are declared with shape M for consistency,\n",
        "    //        however all entries past M_cc for CC poles and M - M_cc for real poles will be discarded\n",
        "    // // hyperparameters of the complex conjugate poles experts\n",
        "    vector<lower = -1, upper = 1>[M] a_zero_means;  // affine transform of mean parameter for the first AR comps\n",
        "    vector<lower = -1, upper = 1>[M] a_one_means;   // affine transform of mean parameter for the second AR comps\n",
        "    vector<lower = 1>[M] a_total;               // total sample size α + β > 0 (we set the lower bound to one)\n",
        "                                                // to guarantee unimodality\n",
        "\n",
        "    // // hyperparameters of the inputs\n",
        "    matrix[M, P - 2] b_means;\n",
        "    matrix<lower = 0>[M, P - 2] b_sigmas;\n",
        "    // // hyperparameters of the noise\n",
        "    vector[M] sigmas_log_means;\n",
        "    vector[M] sigmas_log_sigmas;\n",
        "    // // other hyperparameters\n",
        "    matrix[M, Q] alphas_coef_means;\n",
        "    matrix<lower = 0>[M, Q] alphas_coef_sigmas;\n",
        "    // // competitive/collaborative behaviour (requires a nonlinear embedding of x)\n",
        "    vector[Q] betas_coef_means;\n",
        "    vector<lower = 0>[Q] betas_coef_sigmas;\n",
        "}\n",
        "\n",
        "/* auxiliary variables */\n",
        "transformed data {\n",
        "    // since the softmax is invariant to scaling, we fix one of the entries to zero to avoid unidentifiability\n",
        "    row_vector[Q] zeros = rep_row_vector(0, Q);\n",
        "\n",
        "    // parameterization for the AR coefficients\n",
        "    // we choose a lower bound of 1 on a_raw_a and a_raw_b to guarantee unimodality\n",
        "    vector<lower = 0, upper = 1>[M] mu_a0_raw = 0.5 + 0.5 * a_zero_means;\n",
        "    vector<lower = 0, upper = 1>[M] mu_a1_raw = 0.5 + 0.5 * a_one_means;\n",
        "    matrix<lower = 1>[M, 2] a_raw_a = append_col(\n",
        "        mu_a0_raw .* a_total ./ (0.5 - 0.5 * abs(a_zero_means)),\n",
        "        (1.0 - mu_a0_raw) .* a_total ./ (0.5 - 0.5 * abs(a_zero_means))\n",
        "    );\n",
        "    matrix<lower = 1>[M, 2] a_raw_b = append_col(\n",
        "        mu_a1_raw .* a_total ./ (0.5 - 0.5 * abs(a_one_means)),\n",
        "        (1.0 - mu_a1_raw) .* a_total ./ (0.5 - 0.5 * abs(a_one_means))\n",
        "    );\n",
        "}\n",
        "\n",
        "/* definition of model parameters */\n",
        "parameters {\n",
        "    // training variables - declared in full size just for consistency\n",
        "    matrix[M, P - 2] b_coefs;\n",
        "    positive_ordered[M] raw_sigmas;\n",
        "\n",
        "    // beta (top-level/behaviour gating)\n",
        "    vector[Q] betas_coef;\n",
        "\n",
        "    // alpha (mixture gating)\n",
        "    matrix[M - 1, Q] alphas_raw_coef;\n",
        "\n",
        "    // autoregressive (raw)\n",
        "    matrix<lower = 0, upper = 1>[M, 2] a_raw;\n",
        "}\n",
        "\n",
        "/* nonlinear parameter transformations and links */\n",
        "transformed parameters {\n",
        "    // means of the dirichlet components\n",
        "    // todo: find more elegant and convenient way to do this\n",
        "    matrix[M, Q] alphas_coef = append_row(alphas_raw_coef, zeros);\n",
        "    matrix[M, 2] thetas_ar;\n",
        "    // TODO: extend to arbitrary n_a\n",
        "    vector<lower = eps-1, upper = 1-eps>[M] a_zero = (1-eps) * 2.0 * (a_raw[:, 1] - 0.5);\n",
        "    vector<lower = eps-1, upper = 1-eps>[M] a_one = (1-eps) * 2.0 * (a_raw[:, 2] - 0.5) .* (1.0 - 2.0 * abs(a_raw[:, 1] - 0.5));\n",
        "    vector<lower = 0>[M] sigmas;\n",
        "\n",
        "    if (reverse_order == 1) {\n",
        "        // reversing the orderedness constraint (helpful since the last row of the alphas is set to zero)\n",
        "        sigmas = reverse(raw_sigmas);\n",
        "    }\n",
        "    else {\n",
        "        sigmas = raw_sigmas;\n",
        "    }\n",
        "    thetas_ar = append_col(a_zero, a_one);\n",
        "    matrix[M, P] thetas = append_col(thetas_ar, b_coefs);\n",
        "    vector[M] sigmas_sq = square(sigmas);\n",
        "}\n",
        "\n",
        "/* definition of the model */\n",
        "// todo: separate priors for bias and coefficients\n",
        "model {\n",
        "    // priors - gatings\n",
        "    for (i in 1:Q) {\n",
        "        betas_coef[i] ~ double_exponential(betas_coef_means[i], betas_coef_sigmas[i]);\n",
        "    }\n",
        "    for (i in 1:M-1) {\n",
        "        for (j in 1:Q) {\n",
        "            alphas_coef[i, j] ~ double_exponential(alphas_coef_means[i, j], alphas_coef_sigmas[i, j]);\n",
        "        }\n",
        "    }\n",
        "\n",
        "    // priors - experts\n",
        "    for (i in 1:M) {\n",
        "        // priors on the autoregressive coefficients\n",
        "        a_raw[i, 1] ~ beta(a_raw_a[i, 1], a_raw_b[i, 1]);\n",
        "        a_raw[i, 2] ~ beta(a_raw_a[i, 2], a_raw_b[i, 2]);\n",
        "\n",
        "        // variance and inputs\n",
        "        sigmas[i] ~ lognormal(sigmas_log_means[i], sigmas_log_sigmas[i]);\n",
        "        for (j in 1:P - 2) {\n",
        "            // priors on the inputs coefficients\n",
        "            b_coefs[i, j] ~ normal(b_means[i, j], b_sigmas[i, j]);\n",
        "        }\n",
        "    }\n",
        "\n",
        "    // likelihood\n",
        "    // the log-likelihood here is made up of two components (summed over all instances in the training set):\n",
        "    for (n in 1:N) {\n",
        "        vector[M+1] lse_args;\n",
        "        vector[M] alpha_scores = alphas_coef * phi_x[n];\n",
        "        vector[M] log_softmax_alphas = log_softmax(alpha_scores);\n",
        "        vector[M] softmax_alphas = softmax(alpha_scores);\n",
        "        real beta_scores = phi_x[n] * betas_coef;\n",
        "        real log_beta = -log1p_exp(-beta_scores);\n",
        "        real log1m_beta = -log1p_exp(beta_scores);\n",
        "\n",
        "        // competitive term in the likelihood\n",
        "        // TODO: check if a different expression can be used\n",
        "        for (m in 1:M) {\n",
        "            lse_args[m] = log_beta + log_softmax_alphas[m] + normal_lpdf(y[n] | thetas[m] * x[n], sigmas[m]);\n",
        "        }\n",
        "\n",
        "        // collaborative term in the likelihood - here we fuse the parameters of individual experts\n",
        "        real coll_log_loss = normal_lpdf(y[n] | softmax_alphas * thetas * x[n], sqrt(softmax_alphas * sigmas_sq));\n",
        "        lse_args[M+1] = log1m_beta + coll_log_loss;\n",
        "\n",
        "        // combining the contributions\n",
        "        target += log_sum_exp(lse_args);\n",
        "    }\n",
        "}\n",
        "\n",
        "/* quantities we need to store in order to compute WAIC */\n",
        "generated quantities {\n",
        "    /* YOUR CODE GOES HERE */\n",
        "}\n",
        "\n",
        "\"\"\""
      ]
    },
    {
      "cell_type": "code",
      "execution_count": null,
      "id": "5f4b0c9a",
      "metadata": {
        "id": "5f4b0c9a"
      },
      "outputs": [],
      "source": [
        "# Hyperparameters\n",
        "alphas_coef_means = [[15.0, -50.0, 0.0], [-30.0, 50.0, 0.0], [0.0, 0.0, 0.0]]\n",
        "alphas_coef_sigmas = [[1.0, 0.1, 0.01], [1.0, 0.1, 0.01], [1.0, 1.0, 1.0]]\n",
        "betas_coef_means = [-1.6137318461999999, -1.2966869064000006, -0.9773183402999996]\n",
        "betas_coef_sigmas = [0.5300025697274576, 0.10300716052089773, 0.11656114525858899]\n",
        "sigmas_log_means = [-5.0, -3.0, -1.0]\n",
        "sigmas_log_sigmas = [0.2, 0.2, 0.2]\n",
        "theta_means = [[0.0, 0.0, 0.0], [0.0, 0.0, 0.0], [0.0, 0.0, 0.0]]\n",
        "theta_sigmas = [[1.0, 0.01, 0.01], [1.0, 0.01, 0.01], [0.5, 2.0, 2.0]]"
      ]
    },
    {
      "cell_type": "markdown",
      "id": "e0b417ba",
      "metadata": {
        "id": "e0b417ba"
      },
      "source": [
        "# Read CSV Data"
      ]
    },
    {
      "cell_type": "code",
      "execution_count": 9,
      "id": "adab3136",
      "metadata": {
        "id": "adab3136"
      },
      "outputs": [],
      "source": [
        "train_data = pd.read_csv(\"train_data.csv\")\n",
        "test_data = pd.read_csv(\"test_data.csv\")\n"
      ]
    },
    {
      "cell_type": "code",
      "source": [
        "import pandas as pd\n",
        "import matplotlib.pyplot as plt\n",
        "\n",
        "# Load the data\n",
        "\n",
        "x_times_test = test_data['t']\n",
        "y_accel_test = test_data['out.$y_+$']\n",
        "\n",
        "x_times_train = train_data['t']\n",
        "y_accel_train = train_data['out.$y_+$']\n",
        "\n",
        "# Plotting\n",
        "plt.figure(figsize=(15, 10))\n",
        "plt.scatter(x_times_train, y_accel_train, color='blue', label='Train Data', alpha=0.5)\n",
        "plt.scatter(x_times_test, y_accel_test, color='orange', label='Test Data', alpha=0.5)\n",
        "plt.title('Scatter Plot of t vs out.$y_+$')\n",
        "plt.xlabel('t')\n",
        "plt.ylabel('out.$y_+$')\n",
        "plt.legend()\n",
        "plt.grid(True)\n",
        "plt.show()"
      ],
      "metadata": {
        "colab": {
          "base_uri": "https://localhost:8080/",
          "height": 874
        },
        "id": "xPr3dio24mZK",
        "outputId": "5e6c2079-467a-4433-b603-25d18f21f65b"
      },
      "id": "xPr3dio24mZK",
      "execution_count": 13,
      "outputs": [
        {
          "output_type": "display_data",
          "data": {
            "text/plain": [
              "<Figure size 1500x1000 with 1 Axes>"
            ],
            "image/png": "[encoded data removed]"
          },
          "metadata": {}
        }
      ]
    },
    {
      "cell_type": "code",
      "execution_count": null,
      "id": "2ccb24f5",
      "metadata": {
        "id": "2ccb24f5",
        "outputId": "6faea866-a0f6-4f4d-805c-469a48b89986"
      },
      "outputs": [
        {
          "data": {
            "text/html": [
              "<div>\n",
              "<style scoped>\n",
              "    .dataframe tbody tr th:only-of-type {\n",
              "        vertical-align: middle;\n",
              "    }\n",
              "\n",
              "    .dataframe tbody tr th {\n",
              "        vertical-align: top;\n",
              "    }\n",
              "\n",
              "    .dataframe thead th {\n",
              "        text-align: right;\n",
              "    }\n",
              "</style>\n",
              "<table border=\"1\" class=\"dataframe\">\n",
              "  <thead>\n",
              "    <tr style=\"text-align: right;\">\n",
              "      <th></th>\n",
              "      <th>t</th>\n",
              "      <th>out.$y_+$</th>\n",
              "      <th>in.$y$</th>\n",
              "      <th>in.$y_{-1}$</th>\n",
              "      <th>in.$u$</th>\n",
              "      <th>in.$u_{-1}$</th>\n",
              "      <th>in.$u_{-2}$</th>\n",
              "    </tr>\n",
              "  </thead>\n",
              "  <tbody>\n",
              "    <tr>\n",
              "      <th>0</th>\n",
              "      <td>0.031281</td>\n",
              "      <td>0.45742</td>\n",
              "      <td>0.49041</td>\n",
              "      <td>0.49825</td>\n",
              "      <td>0.181443</td>\n",
              "      <td>0.162096</td>\n",
              "      <td>0.151336</td>\n",
              "    </tr>\n",
              "    <tr>\n",
              "      <th>1</th>\n",
              "      <td>0.046921</td>\n",
              "      <td>0.42705</td>\n",
              "      <td>0.45742</td>\n",
              "      <td>0.49041</td>\n",
              "      <td>0.239919</td>\n",
              "      <td>0.181443</td>\n",
              "      <td>0.162096</td>\n",
              "    </tr>\n",
              "    <tr>\n",
              "      <th>2</th>\n",
              "      <td>0.062561</td>\n",
              "      <td>0.40255</td>\n",
              "      <td>0.42705</td>\n",
              "      <td>0.45742</td>\n",
              "      <td>0.330874</td>\n",
              "      <td>0.239919</td>\n",
              "      <td>0.181443</td>\n",
              "    </tr>\n",
              "    <tr>\n",
              "      <th>3</th>\n",
              "      <td>0.078201</td>\n",
              "      <td>0.39196</td>\n",
              "      <td>0.40255</td>\n",
              "      <td>0.42705</td>\n",
              "      <td>0.411022</td>\n",
              "      <td>0.330874</td>\n",
              "      <td>0.239919</td>\n",
              "    </tr>\n",
              "    <tr>\n",
              "      <th>4</th>\n",
              "      <td>0.093842</td>\n",
              "      <td>0.38518</td>\n",
              "      <td>0.39196</td>\n",
              "      <td>0.40255</td>\n",
              "      <td>0.446477</td>\n",
              "      <td>0.411022</td>\n",
              "      <td>0.330874</td>\n",
              "    </tr>\n",
              "  </tbody>\n",
              "</table>\n",
              "</div>"
            ],
            "text/plain": [
              "          t  out.$y_+$   in.$y$  in.$y_{-1}$    in.$u$  in.$u_{-1}$  \\\n",
              "0  0.031281    0.45742  0.49041      0.49825  0.181443     0.162096   \n",
              "1  0.046921    0.42705  0.45742      0.49041  0.239919     0.181443   \n",
              "2  0.062561    0.40255  0.42705      0.45742  0.330874     0.239919   \n",
              "3  0.078201    0.39196  0.40255      0.42705  0.411022     0.330874   \n",
              "4  0.093842    0.38518  0.39196      0.40255  0.446477     0.411022   \n",
              "\n",
              "   in.$u_{-2}$  \n",
              "0     0.151336  \n",
              "1     0.162096  \n",
              "2     0.181443  \n",
              "3     0.239919  \n",
              "4     0.330874  "
            ]
          },
          "execution_count": 38,
          "metadata": {},
          "output_type": "execute_result"
        }
      ],
      "source": [
        "df_test.head()"
      ]
    },
    {
      "cell_type": "markdown",
      "id": "00e2e41d",
      "metadata": {
        "id": "00e2e41d"
      },
      "source": [
        "# Create STAN File¶"
      ]
    },
    {
      "cell_type": "code",
      "execution_count": null,
      "id": "fb475398",
      "metadata": {
        "id": "fb475398"
      },
      "outputs": [],
      "source": [
        "# Create folder to store .stan files\n",
        "if not os.path.exists(f\"./{folder_name}\"):\n",
        "    os.mkdir(f\"./{folder_name}\")\n",
        "# Write model to file\n",
        "stan_file = f\"./{folder_name}/{model_name}.stan\"\n",
        "with open(stan_file, \"w\") as f:\n",
        "    print(stan_code, file=f)"
      ]
    },
    {
      "cell_type": "markdown",
      "id": "b10753bb",
      "metadata": {
        "id": "b10753bb"
      },
      "source": [
        "# Compile and run Model"
      ]
    },
    {
      "cell_type": "code",
      "execution_count": null,
      "id": "a916c2f4",
      "metadata": {
        "id": "a916c2f4",
        "outputId": "8a10d03b-5f54-49c1-ae6b-59cade3d7399"
      },
      "outputs": [
        {
          "name": "stderr",
          "output_type": "stream",
          "text": [
            "14:31:54 - cmdstanpy - INFO - compiling stan file /Users/xueyuanhuang/Desktop/project-bayesian/stage3/CoCoAFusE/stan/model.stan to exe file /Users/xueyuanhuang/Desktop/project-bayesian/stage3/CoCoAFusE/stan/model\n"
          ]
        },
        {
          "ename": "ValueError",
          "evalue": "Failed to compile Stan model '/Users/xueyuanhuang/Desktop/project-bayesian/stage3/CoCoAFusE/stan/model.stan'. Console:\n\n--- Translating Stan model to C++ code ---\nbin/stanc --filename-in-msg=model.stan --o=/Users/xueyuanhuang/Desktop/project-bayesian/stage3/CoCoAFusE/stan/model.hpp /Users/xueyuanhuang/Desktop/project-bayesian/stage3/CoCoAFusE/stan/model.stan\nSemantic error in 'model.stan', line 152, column 33 to column 55:\n   -------------------------------------------------\n   150:      for (n in 1:N) {\n   151:          vector[M+1] lse_args;\n   152:          vector[M] alpha_scores = alphas_coef * phi_x[n];\n                                          ^\n   153:          vector[M] log_softmax_alphas = log_softmax(alpha_scores);\n   154:          vector[M] softmax_alphas = softmax(alpha_scores);\n   -------------------------------------------------\n\nIll-typed arguments supplied to infix operator *. Available signatures: \n(int, int) => int\n(real, real) => real\n(row_vector, vector) => real\n(real, vector) => vector\n(vector, real) => vector\n(matrix, vector) => vector\n(complex, complex) => complex\n(complex_row_vector, complex_vector) => complex\n(real, row_vector) => row_vector\n(row_vector, real) => row_vector\n(row_vector, matrix) => row_vector\n(real, matrix) => matrix\n(vector, row_vector) => matrix\n(matrix, real) => matrix\n(matrix, matrix) => matrix\n(complex, complex_vector) => complex_vector\n(complex_vector, complex) => complex_vector\n(complex_matrix, complex_vector) => complex_vector\n(complex, complex_row_vector) => complex_row_vector\n(complex_row_vector, complex) => complex_row_vector\n(complex_row_vector, complex_matrix) => complex_row_vector\n(complex, complex_matrix) => complex_matrix\n(complex_vector, complex_row_vector) => complex_matrix\n(complex_matrix, complex) => complex_matrix\n(complex_matrix, complex_matrix) => complex_matrix\nInstead supplied arguments of incompatible type: matrix, row_vector.\nmake: *** [/Users/xueyuanhuang/Desktop/project-bayesian/stage3/CoCoAFusE/stan/model.hpp] Error 1\n\nCommand ['make', 'STANCFLAGS+=--filename-in-msg=model.stan', '/Users/xueyuanhuang/Desktop/project-bayesian/stage3/CoCoAFusE/stan/model']\n\terror during processing No such file or directory\n",
          "output_type": "error",
          "traceback": [
            "\u001b[0;31m---------------------------------------------------------------------------\u001b[0m",
            "\u001b[0;31mValueError\u001b[0m                                Traceback (most recent call last)",
            "Cell \u001b[0;32mIn[40], line 2\u001b[0m\n\u001b[1;32m      1\u001b[0m \u001b[38;5;66;03m# Compile stan model\u001b[39;00m\n\u001b[0;32m----> 2\u001b[0m stan_model \u001b[38;5;241m=\u001b[39m CmdStanModel(stan_file\u001b[38;5;241m=\u001b[39mstan_file)\n",
            "File \u001b[0;32m~/anaconda3/lib/python3.11/site-packages/cmdstanpy/model.py:257\u001b[0m, in \u001b[0;36mCmdStanModel.__init__\u001b[0;34m(self, model_name, stan_file, exe_file, force_compile, stanc_options, cpp_options, user_header, compile)\u001b[0m\n\u001b[1;32m    254\u001b[0m         get_logger()\u001b[38;5;241m.\u001b[39mdebug(\u001b[38;5;124m\"\u001b[39m\u001b[38;5;124mTBB already found in load path\u001b[39m\u001b[38;5;124m\"\u001b[39m)\n\u001b[1;32m    256\u001b[0m \u001b[38;5;28;01mif\u001b[39;00m \u001b[38;5;28mcompile\u001b[39m \u001b[38;5;129;01mand\u001b[39;00m \u001b[38;5;28mself\u001b[39m\u001b[38;5;241m.\u001b[39m_exe_file \u001b[38;5;129;01mis\u001b[39;00m \u001b[38;5;28;01mNone\u001b[39;00m:\n\u001b[0;32m--> 257\u001b[0m     \u001b[38;5;28mself\u001b[39m\u001b[38;5;241m.\u001b[39mcompile(force\u001b[38;5;241m=\u001b[39m\u001b[38;5;28mstr\u001b[39m(\u001b[38;5;28mcompile\u001b[39m)\u001b[38;5;241m.\u001b[39mlower() \u001b[38;5;241m==\u001b[39m \u001b[38;5;124m'\u001b[39m\u001b[38;5;124mforce\u001b[39m\u001b[38;5;124m'\u001b[39m, _internal\u001b[38;5;241m=\u001b[39m\u001b[38;5;28;01mTrue\u001b[39;00m)\n",
            "File \u001b[0;32m~/anaconda3/lib/python3.11/site-packages/cmdstanpy/model.py:465\u001b[0m, in \u001b[0;36mCmdStanModel.compile\u001b[0;34m(self, force, stanc_options, cpp_options, user_header, override_options, _internal)\u001b[0m\n\u001b[1;32m    462\u001b[0m         \u001b[38;5;28;01melse\u001b[39;00m:\n\u001b[1;32m    463\u001b[0m             \u001b[38;5;28mself\u001b[39m\u001b[38;5;241m.\u001b[39m_compiler_options\u001b[38;5;241m.\u001b[39madd(compiler_options)\n\u001b[0;32m--> 465\u001b[0m \u001b[38;5;28mself\u001b[39m\u001b[38;5;241m.\u001b[39m_exe_file \u001b[38;5;241m=\u001b[39m compilation\u001b[38;5;241m.\u001b[39mcompile_stan_file(\n\u001b[1;32m    466\u001b[0m     \u001b[38;5;28mstr\u001b[39m(\u001b[38;5;28mself\u001b[39m\u001b[38;5;241m.\u001b[39mstan_file),\n\u001b[1;32m    467\u001b[0m     force\u001b[38;5;241m=\u001b[39mforce,\n\u001b[1;32m    468\u001b[0m     stanc_options\u001b[38;5;241m=\u001b[39m\u001b[38;5;28mself\u001b[39m\u001b[38;5;241m.\u001b[39m_compiler_options\u001b[38;5;241m.\u001b[39mstanc_options,\n\u001b[1;32m    469\u001b[0m     cpp_options\u001b[38;5;241m=\u001b[39m\u001b[38;5;28mself\u001b[39m\u001b[38;5;241m.\u001b[39m_compiler_options\u001b[38;5;241m.\u001b[39mcpp_options,\n\u001b[1;32m    470\u001b[0m     user_header\u001b[38;5;241m=\u001b[39m\u001b[38;5;28mself\u001b[39m\u001b[38;5;241m.\u001b[39m_compiler_options\u001b[38;5;241m.\u001b[39muser_header,\n\u001b[1;32m    471\u001b[0m )\n",
            "File \u001b[0;32m~/anaconda3/lib/python3.11/site-packages/cmdstanpy/compilation.py:481\u001b[0m, in \u001b[0;36mcompile_stan_file\u001b[0;34m(src, force, stanc_options, cpp_options, user_header)\u001b[0m\n\u001b[1;32m    474\u001b[0m     \u001b[38;5;28;01mif\u001b[39;00m \u001b[38;5;124m'\u001b[39m\u001b[38;5;124mPCH\u001b[39m\u001b[38;5;124m'\u001b[39m \u001b[38;5;129;01min\u001b[39;00m console \u001b[38;5;129;01mor\u001b[39;00m \u001b[38;5;124m'\u001b[39m\u001b[38;5;124mprecompiled header\u001b[39m\u001b[38;5;124m'\u001b[39m \u001b[38;5;129;01min\u001b[39;00m console:\n\u001b[1;32m    475\u001b[0m         get_logger()\u001b[38;5;241m.\u001b[39mwarning(\n\u001b[1;32m    476\u001b[0m             \u001b[38;5;124m\"\u001b[39m\u001b[38;5;124mCmdStan\u001b[39m\u001b[38;5;124m'\u001b[39m\u001b[38;5;124ms precompiled header (PCH) files \u001b[39m\u001b[38;5;124m\"\u001b[39m\n\u001b[1;32m    477\u001b[0m             \u001b[38;5;124m\"\u001b[39m\u001b[38;5;124mmay need to be rebuilt.\u001b[39m\u001b[38;5;124m\"\u001b[39m\n\u001b[1;32m    478\u001b[0m             \u001b[38;5;124m\"\u001b[39m\u001b[38;5;124mPlease run cmdstanpy.rebuild_cmdstan().\u001b[39m\u001b[38;5;130;01m\\n\u001b[39;00m\u001b[38;5;124m\"\u001b[39m\n\u001b[1;32m    479\u001b[0m             \u001b[38;5;124m\"\u001b[39m\u001b[38;5;124mIf the issue persists please open a bug report\u001b[39m\u001b[38;5;124m\"\u001b[39m\n\u001b[1;32m    480\u001b[0m         )\n\u001b[0;32m--> 481\u001b[0m     \u001b[38;5;28;01mraise\u001b[39;00m \u001b[38;5;167;01mValueError\u001b[39;00m(\n\u001b[1;32m    482\u001b[0m         \u001b[38;5;124mf\u001b[39m\u001b[38;5;124m\"\u001b[39m\u001b[38;5;124mFailed to compile Stan model \u001b[39m\u001b[38;5;124m'\u001b[39m\u001b[38;5;132;01m{\u001b[39;00msrc\u001b[38;5;132;01m}\u001b[39;00m\u001b[38;5;124m'\u001b[39m\u001b[38;5;124m. \u001b[39m\u001b[38;5;124m\"\u001b[39m \u001b[38;5;124mf\u001b[39m\u001b[38;5;124m\"\u001b[39m\u001b[38;5;124mConsole:\u001b[39m\u001b[38;5;130;01m\\n\u001b[39;00m\u001b[38;5;132;01m{\u001b[39;00mconsole\u001b[38;5;132;01m}\u001b[39;00m\u001b[38;5;124m\"\u001b[39m\n\u001b[1;32m    483\u001b[0m     )\n\u001b[1;32m    484\u001b[0m \u001b[38;5;28;01mreturn\u001b[39;00m \u001b[38;5;28mstr\u001b[39m(exe_target)\n",
            "\u001b[0;31mValueError\u001b[0m: Failed to compile Stan model '/Users/xueyuanhuang/Desktop/project-bayesian/stage3/CoCoAFusE/stan/model.stan'. Console:\n\n--- Translating Stan model to C++ code ---\nbin/stanc --filename-in-msg=model.stan --o=/Users/xueyuanhuang/Desktop/project-bayesian/stage3/CoCoAFusE/stan/model.hpp /Users/xueyuanhuang/Desktop/project-bayesian/stage3/CoCoAFusE/stan/model.stan\nSemantic error in 'model.stan', line 152, column 33 to column 55:\n   -------------------------------------------------\n   150:      for (n in 1:N) {\n   151:          vector[M+1] lse_args;\n   152:          vector[M] alpha_scores = alphas_coef * phi_x[n];\n                                          ^\n   153:          vector[M] log_softmax_alphas = log_softmax(alpha_scores);\n   154:          vector[M] softmax_alphas = softmax(alpha_scores);\n   -------------------------------------------------\n\nIll-typed arguments supplied to infix operator *. Available signatures: \n(int, int) => int\n(real, real) => real\n(row_vector, vector) => real\n(real, vector) => vector\n(vector, real) => vector\n(matrix, vector) => vector\n(complex, complex) => complex\n(complex_row_vector, complex_vector) => complex\n(real, row_vector) => row_vector\n(row_vector, real) => row_vector\n(row_vector, matrix) => row_vector\n(real, matrix) => matrix\n(vector, row_vector) => matrix\n(matrix, real) => matrix\n(matrix, matrix) => matrix\n(complex, complex_vector) => complex_vector\n(complex_vector, complex) => complex_vector\n(complex_matrix, complex_vector) => complex_vector\n(complex, complex_row_vector) => complex_row_vector\n(complex_row_vector, complex) => complex_row_vector\n(complex_row_vector, complex_matrix) => complex_row_vector\n(complex, complex_matrix) => complex_matrix\n(complex_vector, complex_row_vector) => complex_matrix\n(complex_matrix, complex) => complex_matrix\n(complex_matrix, complex_matrix) => complex_matrix\nInstead supplied arguments of incompatible type: matrix, row_vector.\nmake: *** [/Users/xueyuanhuang/Desktop/project-bayesian/stage3/CoCoAFusE/stan/model.hpp] Error 1\n\nCommand ['make', 'STANCFLAGS+=--filename-in-msg=model.stan', '/Users/xueyuanhuang/Desktop/project-bayesian/stage3/CoCoAFusE/stan/model']\n\terror during processing No such file or directory\n"
          ]
        }
      ],
      "source": [
        "# Compile stan model\n",
        "stan_model = CmdStanModel(stan_file=stan_file)"
      ]
    },
    {
      "cell_type": "code",
      "execution_count": null,
      "id": "1f51dc29",
      "metadata": {
        "id": "1f51dc29"
      },
      "outputs": [],
      "source": [
        "# here we define the sam variables defined in DATA section of .stan file\n",
        "data = {\n",
        "    # dimensions\n",
        "    \"N\": 75,\n",
        "    \"M\": 3,\n",
        "    \"P\": 3,\n",
        "    \"Q\": 3,\n",
        "    \"T\": 58,\n",
        "    # training observations\n",
        "    \"x\": df_train[[\"ones\",'x.times', 'x.times_quad']],\n",
        "    \"phi_x\": df_train[[\"ones\",'x.cos_times', 'x.sin_times']],\n",
        "    # TODO: ask what embedding\n",
        "    \"y\": df_train['y.accel'].to_numpy(),\n",
        "    # test data\n",
        "    \"v\": df_test[[\"ones\",'x.times', 'x.times_quad']],\n",
        "    \"phi_v\": df_test[[\"ones\",'x.cos_times', 'x.sin_times']],\n",
        "    \"w\": df_test['y.accel'].to_numpy(),\n",
        "    # prior hyperparameters\n",
        "    \"theta_means\": theta_means,\n",
        "    \"theta_sigmas\": theta_sigmas,\n",
        "    \"sigmas_log_means\": sigmas_log_means,\n",
        "    \"sigmas_log_sigmas\": sigmas_log_sigmas,\n",
        "    # competitive/collaborative behaviour\n",
        "    \"alphas_coef_means\": alphas_coef_means,\n",
        "    \"alphas_coef_sigmas\": alphas_coef_sigmas,\n",
        "    \"betas_coef_means\": betas_coef_means,\n",
        "    \"betas_coef_sigmas\": betas_coef_sigmas,\n",
        "\n",
        "}"
      ]
    },
    {
      "cell_type": "code",
      "execution_count": null,
      "id": "0a41e40a",
      "metadata": {
        "id": "0a41e40a"
      },
      "outputs": [],
      "source": [
        "# using variational to generate samples to use as input to dummy init\n",
        "vi = stan_model.variational(data=data, draws=1000)\n",
        "\n",
        "vi_df = pd.DataFrame(vi.variational_sample)\n",
        "vi_df.columns = vi.column_names\n",
        "\n",
        "var_names = [\"thetas\", \"sigmas\", \"betas_coef\", \"alphas_raw_coef\", \"alphas_coef\", \"sigmas_sq\"]\n",
        "\n",
        "# run dummy init\n",
        "inits = dump_multichain_inits(vi_df, \"./initialization\", var_names, 4)"
      ]
    },
    {
      "cell_type": "code",
      "execution_count": null,
      "id": "4e07fe27",
      "metadata": {
        "id": "4e07fe27"
      },
      "outputs": [],
      "source": [
        "# https://mc-stan.org/cmdstanpy/api.html#cmdstanpy.CmdStanModel.sample\n",
        "stan_fit = stan_model.sample(data=data, chains=4, parallel_chains=4,\n",
        "                             iter_warmup=1000, iter_sampling=2000,\n",
        "                             adapt_delta=0.85, max_treedepth=20, inits=inits)"
      ]
    },
    {
      "cell_type": "markdown",
      "id": "91bdae06",
      "metadata": {
        "id": "91bdae06"
      },
      "source": [
        "# Results Evaluation"
      ]
    },
    {
      "cell_type": "code",
      "execution_count": null,
      "id": "7a12c1e4",
      "metadata": {
        "id": "7a12c1e4"
      },
      "outputs": [],
      "source": [
        "cmdstanpy_data = az.from_cmdstanpy(stan_fit)"
      ]
    },
    {
      "cell_type": "markdown",
      "id": "b5afb699",
      "metadata": {
        "id": "b5afb699"
      },
      "source": [
        "Results Plotting"
      ]
    },
    {
      "cell_type": "code",
      "execution_count": null,
      "id": "a08878ee",
      "metadata": {
        "id": "a08878ee"
      },
      "outputs": [],
      "source": [
        "groups = [\"thetas\", \"sigmas\", \"alphas_coef\", \"betas_coef\"]\n",
        "\n",
        "for group in groups:\n",
        "    az.plot_trace(\n",
        "        cmdstanpy_data,           # ArviZ InferenceData object\n",
        "        var_names=[group],      # Select `thetas` for plotting\n",
        "        compact=True,\n",
        "        figsize=(20,10)             # Combine dimensions into a single plot\n",
        "\n",
        "    )\n",
        "    plt.tight_layout()\n",
        "    plt.show()"
      ]
    },
    {
      "cell_type": "code",
      "execution_count": null,
      "id": "43eabea9",
      "metadata": {
        "id": "43eabea9"
      },
      "outputs": [],
      "source": [
        "groups = [\"thetas\", \"sigmas\", \"alphas_coef\", \"betas_coef\"]\n",
        "\n",
        "for group in groups:\n",
        "    az.plot_trace(\n",
        "        cmdstanpy_data,           # ArviZ InferenceData object\n",
        "        var_names=[group],      # Select `thetas` for plotting\n",
        "        compact=False,\n",
        "        #figsize=(20,10)             # Combine dimensions into a single plot\n",
        "\n",
        "    )\n",
        "    plt.tight_layout()\n",
        "    plt.show()"
      ]
    },
    {
      "cell_type": "markdown",
      "id": "d2caf5eb",
      "metadata": {
        "id": "d2caf5eb"
      },
      "source": [
        "Fit Evaluation"
      ]
    },
    {
      "cell_type": "code",
      "execution_count": null,
      "id": "db589d4f",
      "metadata": {
        "id": "db589d4f"
      },
      "outputs": [],
      "source": [
        "rhat_data = az.rhat(cmdstanpy_data)\n",
        "rhat_max={}\n",
        "for var_name in rhat_data.data_vars:\n",
        "  rhat_val= rhat_data[var_name].max()\n",
        "  rhat_max[var_name]=rhat_val\n",
        "  print(f\"{var_name}: {float(rhat_data[var_name].max())}\")\n",
        "  if rhat_data[var_name].max() >= 1.05:\n",
        "      print(f\"Convergence issue with {rhat_data[var_name]} \")"
      ]
    }
  ],
  "metadata": {
    "kernelspec": {
      "display_name": "Python 3 (ipykernel)",
      "language": "python",
      "name": "python3"
    },
    "language_info": {
      "codemirror_mode": {
        "name": "ipython",
        "version": 3
      },
      "file_extension": ".py",
      "mimetype": "text/x-python",
      "name": "python",
      "nbconvert_exporter": "python",
      "pygments_lexer": "ipython3",
      "version": "3.11.4"
    },
    "colab": {
      "provenance": [],
      "include_colab_link": true
    }
  },
  "nbformat": 4,
  "nbformat_minor": 5
}